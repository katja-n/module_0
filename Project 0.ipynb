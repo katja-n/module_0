{
 "cells": [
  {
   "cell_type": "code",
   "execution_count": 50,
   "metadata": {},
   "outputs": [
    {
     "name": "stdout",
     "output_type": "stream",
     "text": [
      "Загадано число от 10 до 100\n",
      "Ваш алгоритм угадывает число в среднем за 4 попытки\n"
     ]
    },
    {
     "data": {
      "text/plain": [
       "4"
      ]
     },
     "execution_count": 50,
     "metadata": {},
     "output_type": "execute_result"
    }
   ],
   "source": [
    "import numpy as np\n",
    "count = 0                            # счетчик попыток\n",
    "number = np.random.randint(0,100)    # загадали число\n",
    "print (\"Загадано число от 10 до 100\")\n",
    "\n",
    "def game_core_v4(number):\n",
    "    number_list = [int(digit) for digit in str(number)]    # формируем список из загаданного числа\n",
    "    count = 1\n",
    "    predict_list = [np.random.randint(0,10) for digit in number_list] # создаем второй список из random чисел\n",
    "    \n",
    "    while predict_list!=number_list:    \n",
    "        for i in range (0,len(number_list)):\n",
    "        \n",
    "            while predict_list[i] != number_list[i]:\n",
    "            \n",
    "                if predict_list[i]==0:\n",
    "                    count+=1\n",
    "                    predict_list[i]+=1\n",
    "                \n",
    "                elif predict_list[i] > number_list[i]:\n",
    "                    count+=1\n",
    "                    if predict_list[i]//4 >= number_list[i]:\n",
    "                        predict_list[i]=predict_list[i]//4\n",
    "                    elif predict_list[i]//2 >= number_list[i]:\n",
    "                        predict_list[i]=predict_list[i]//2\n",
    "                    else:\n",
    "                        predict_list[i]-=1\n",
    "                    \n",
    "                elif predict_list[i] < number_list[i]:\n",
    "                    count+=1 \n",
    "                    if predict_list[i]*4 <= number_list[i]:\n",
    "                        predict_list[i]=predict_list[i]*4\n",
    "                    elif predict_list[i]*2 <= number_list[i]:\n",
    "                        predict_list[i]=predict_list[i]*2\n",
    "                    else:\n",
    "                        predict_list[i]+=1\n",
    "                                       \n",
    "    return(count)\n",
    "game_core_v4(number)\n",
    "def score_game(game_core_v4):\n",
    "    '''Запускаем игру 1000 раз, чтобы узнать, как быстро игра угадывает число'''\n",
    "    count_ls = []\n",
    "    np.random.seed(1)  # фиксируем RANDOM SEED, чтобы ваш эксперимент был воспроизводим!\n",
    "    random_array = np.random.randint(1,101, size=(1000))\n",
    "    for number in random_array:\n",
    "        count_ls.append(game_core_v4(number))\n",
    "    score = int(np.mean(count_ls))\n",
    "    if score<=4:\n",
    "        print(f\"Ваш алгоритм угадывает число в среднем за {score} попытки\")\n",
    "    else:\n",
    "        print(f\"Ваш алгоритм угадывает число в среднем за {score} попыток\")\n",
    "    return(score)\n",
    "score_game(game_core_v4)"
   ]
  },
  {
   "cell_type": "code",
   "execution_count": null,
   "metadata": {},
   "outputs": [],
   "source": []
  },
  {
   "cell_type": "code",
   "execution_count": null,
   "metadata": {},
   "outputs": [],
   "source": []
  },
  {
   "cell_type": "code",
   "execution_count": null,
   "metadata": {},
   "outputs": [],
   "source": []
  }
 ],
 "metadata": {
  "kernelspec": {
   "display_name": "Python 3",
   "language": "python",
   "name": "python3"
  },
  "language_info": {
   "codemirror_mode": {
    "name": "ipython",
    "version": 3
   },
   "file_extension": ".py",
   "mimetype": "text/x-python",
   "name": "python",
   "nbconvert_exporter": "python",
   "pygments_lexer": "ipython3",
   "version": "3.8.3"
  }
 },
 "nbformat": 4,
 "nbformat_minor": 4
}
